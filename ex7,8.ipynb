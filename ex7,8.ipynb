{
 "cells": [
  {
   "cell_type": "markdown",
   "metadata": {},
   "source": [
    "# EX 6 Fuzzy Set Operations"
   ]
  },
  {
   "cell_type": "code",
   "execution_count": null,
   "metadata": {},
   "outputs": [],
   "source": [
    "a= input(‘Enter the fuzzy set a’ )\n",
    "b= input(‘Enter the fuzzy set b’)\n",
    "c= a + b\n",
    "d= a * b\n",
    "as= c – d \n",
    " e= 1 – b \n",
    "ad= a + e \n",
    "         f= a – b \n",
    "bs= min (1, c)\n",
    "bd= max (0, f)\n",
    "         g= c – 1 \n",
    "bp= max (0,g)\n",
    "disp(‘The algebraic sum’)\n",
    "disp(as)\n",
    "disp(‘The algebraic difference’)\n",
    "disp(ad)\n",
    "disp(‘The algebraic product’)\n",
    "disp(d)\n",
    "disp(‘The bounded sum’)\n",
    "disp(bs)\n",
    "disp(‘The bounded difference’)\n",
    "disp (bd)\n",
    "disp(‘The bounded product’)\n",
    "disp(bp)"
   ]
  },
  {
   "cell_type": "markdown",
   "metadata": {},
   "source": [
    "#  EX 7 Fuzzy Membership Functions"
   ]
  },
  {
   "cell_type": "code",
   "execution_count": null,
   "metadata": {},
   "outputs": [],
   "source": [
    "%Triangular membership function\n",
    "x=(0.0:1.0:10.0)’;\n",
    "y1= trimf(x, [1 3 5]);\n",
    "subplot(311 )\n",
    "plot(x,[y1]);\n",
    "%Trapezoidal membership function\n",
    "x=(0.0:1.0:10.0)’;\n",
    "y1= trapmf(x, [1 3 5 7]);\n",
    "subplot(312)\n",
    "plot(x, [y1] );\n",
    "%Bell-shaped membership function \n",
    "x=(0.0:0.2:10.0);\n",
    "y1=gbellmf (x,[3 57]);\n",
    "subplot(313)\n",
    "plot(x, [y1]);"
   ]
  }
 ],
 "metadata": {
  "kernelspec": {
   "display_name": "Python 3",
   "language": "python",
   "name": "python3"
  },
  "language_info": {
   "codemirror_mode": {
    "name": "ipython",
    "version": 3
   },
   "file_extension": ".py",
   "mimetype": "text/x-python",
   "name": "python",
   "nbconvert_exporter": "python",
   "pygments_lexer": "ipython3",
   "version": "3.8.3"
  }
 },
 "nbformat": 4,
 "nbformat_minor": 4
}
